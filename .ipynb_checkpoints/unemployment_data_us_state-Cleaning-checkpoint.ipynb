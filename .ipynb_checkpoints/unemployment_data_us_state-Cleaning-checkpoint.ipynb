{
 "cells": [
  {
   "cell_type": "code",
   "execution_count": 4,
   "metadata": {},
   "outputs": [],
   "source": [
    "import numpy as np\n",
    "import pandas as pd\n",
    "from scipy.stats import linregress"
   ]
  },
  {
   "cell_type": "code",
   "execution_count": 5,
   "metadata": {},
   "outputs": [
    {
     "name": "stdout",
     "output_type": "stream",
     "text": [
      "State                0\n",
      "Month                0\n",
      "Unemployment_Rate    1\n",
      "Date                 0\n",
      "dtype: int64\n"
     ]
    }
   ],
   "source": [
    "# import Unemployment \n",
    "unemployment_data = pd.read_csv(\"Resources/unemployment_data_us_state.csv\")\n",
    "# identify any null values\n",
    "unemployment_data.count()\n",
    "# identify the data type\n",
    "unemployment_data.dtypes\n",
    "print(unemployment_data.isna().sum())"
   ]
  },
  {
   "cell_type": "code",
   "execution_count": 6,
   "metadata": {},
   "outputs": [
    {
     "name": "stdout",
     "output_type": "stream",
     "text": [
      "State                155\n",
      "Month                155\n",
      "Unemployment_Rate    155\n",
      "Date                 155\n",
      "dtype: int64\n"
     ]
    }
   ],
   "source": [
    "# drop any null valules - lets not drop the null values\n",
    "unemployment_data = unemployment_data.dropna(how=\"any\")\n",
    "print(unemployment_data.count())"
   ]
  },
  {
   "cell_type": "code",
   "execution_count": 8,
   "metadata": {},
   "outputs": [
    {
     "data": {
      "text/html": [
       "<div>\n",
       "<style scoped>\n",
       "    .dataframe tbody tr th:only-of-type {\n",
       "        vertical-align: middle;\n",
       "    }\n",
       "\n",
       "    .dataframe tbody tr th {\n",
       "        vertical-align: top;\n",
       "    }\n",
       "\n",
       "    .dataframe thead th {\n",
       "        text-align: right;\n",
       "    }\n",
       "</style>\n",
       "<table border=\"1\" class=\"dataframe\">\n",
       "  <thead>\n",
       "    <tr style=\"text-align: right;\">\n",
       "      <th></th>\n",
       "      <th>State</th>\n",
       "      <th>Month</th>\n",
       "      <th>Unemployment_Rate</th>\n",
       "      <th>Date</th>\n",
       "    </tr>\n",
       "  </thead>\n",
       "  <tbody>\n",
       "    <tr>\n",
       "      <th>0</th>\n",
       "      <td>Alabama</td>\n",
       "      <td>Jan</td>\n",
       "      <td>2.7</td>\n",
       "      <td>Jan-2020</td>\n",
       "    </tr>\n",
       "    <tr>\n",
       "      <th>1</th>\n",
       "      <td>Alaska</td>\n",
       "      <td>Jan</td>\n",
       "      <td>6.0</td>\n",
       "      <td>Jan-2020</td>\n",
       "    </tr>\n",
       "    <tr>\n",
       "      <th>2</th>\n",
       "      <td>Arizona</td>\n",
       "      <td>Jan</td>\n",
       "      <td>4.5</td>\n",
       "      <td>Jan-2020</td>\n",
       "    </tr>\n",
       "    <tr>\n",
       "      <th>3</th>\n",
       "      <td>Arkansas</td>\n",
       "      <td>Jan</td>\n",
       "      <td>3.5</td>\n",
       "      <td>Jan-2020</td>\n",
       "    </tr>\n",
       "    <tr>\n",
       "      <th>4</th>\n",
       "      <td>California</td>\n",
       "      <td>Jan</td>\n",
       "      <td>3.9</td>\n",
       "      <td>Jan-2020</td>\n",
       "    </tr>\n",
       "    <tr>\n",
       "      <th>...</th>\n",
       "      <td>...</td>\n",
       "      <td>...</td>\n",
       "      <td>...</td>\n",
       "      <td>...</td>\n",
       "    </tr>\n",
       "    <tr>\n",
       "      <th>150</th>\n",
       "      <td>Virginia</td>\n",
       "      <td>Mar</td>\n",
       "      <td>3.3</td>\n",
       "      <td>Mar-2020</td>\n",
       "    </tr>\n",
       "    <tr>\n",
       "      <th>151</th>\n",
       "      <td>Washington</td>\n",
       "      <td>Mar</td>\n",
       "      <td>5.1</td>\n",
       "      <td>Mar-2020</td>\n",
       "    </tr>\n",
       "    <tr>\n",
       "      <th>152</th>\n",
       "      <td>West Virginia</td>\n",
       "      <td>Mar</td>\n",
       "      <td>6.1</td>\n",
       "      <td>Mar-2020</td>\n",
       "    </tr>\n",
       "    <tr>\n",
       "      <th>153</th>\n",
       "      <td>Wisconsin</td>\n",
       "      <td>Mar</td>\n",
       "      <td>3.4</td>\n",
       "      <td>Mar-2020</td>\n",
       "    </tr>\n",
       "    <tr>\n",
       "      <th>154</th>\n",
       "      <td>Wyoming</td>\n",
       "      <td>Mar</td>\n",
       "      <td>3.7</td>\n",
       "      <td>Mar-2020</td>\n",
       "    </tr>\n",
       "  </tbody>\n",
       "</table>\n",
       "<p>155 rows × 4 columns</p>\n",
       "</div>"
      ],
      "text/plain": [
       "             State Month  Unemployment_Rate      Date\n",
       "0          Alabama   Jan                2.7  Jan-2020\n",
       "1           Alaska   Jan                6.0  Jan-2020\n",
       "2          Arizona   Jan                4.5  Jan-2020\n",
       "3         Arkansas   Jan                3.5  Jan-2020\n",
       "4       California   Jan                3.9  Jan-2020\n",
       "..             ...   ...                ...       ...\n",
       "150       Virginia   Mar                3.3  Mar-2020\n",
       "151     Washington   Mar                5.1  Mar-2020\n",
       "152  West Virginia   Mar                6.1  Mar-2020\n",
       "153      Wisconsin   Mar                3.4  Mar-2020\n",
       "154        Wyoming   Mar                3.7  Mar-2020\n",
       "\n",
       "[155 rows x 4 columns]"
      ]
     },
     "execution_count": 8,
     "metadata": {},
     "output_type": "execute_result"
    }
   ],
   "source": [
    "unemployment_data.head(160)"
   ]
  },
  {
   "cell_type": "code",
   "execution_count": null,
   "metadata": {},
   "outputs": [],
   "source": []
  }
 ],
 "metadata": {
  "kernelspec": {
   "display_name": "Python [conda env:root]",
   "language": "python",
   "name": "conda-root-py"
  },
  "language_info": {
   "codemirror_mode": {
    "name": "ipython",
    "version": 3
   },
   "file_extension": ".py",
   "mimetype": "text/x-python",
   "name": "python",
   "nbconvert_exporter": "python",
   "pygments_lexer": "ipython3",
   "version": "3.8.8"
  }
 },
 "nbformat": 4,
 "nbformat_minor": 4
}

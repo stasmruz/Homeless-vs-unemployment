{
 "cells": [
  {
   "cell_type": "code",
   "execution_count": 2,
   "metadata": {},
   "outputs": [],
   "source": [
    "import numpy as np\n",
    "import pandas as pd\n",
    "from scipy.stats import linregress"
   ]
  },
  {
   "cell_type": "code",
   "execution_count": 3,
   "metadata": {},
   "outputs": [
    {
     "name": "stdout",
     "output_type": "stream",
     "text": [
      "State                0\n",
      "Month                0\n",
      "Unemployment_Rate    1\n",
      "Date                 0\n",
      "dtype: int64\n"
     ]
    }
   ],
   "source": [
    "# import Unemployment \n",
    "unemployment_data = pd.read_csv(\"Resources/unemployment_data_us_state.csv\")\n",
    "# identify any null values\n",
    "unemployment_data.count()\n",
    "# identify the data type\n",
    "unemployment_data.dtypes\n",
    "print(unemployment_data.isna().sum())"
   ]
  },
  {
   "cell_type": "code",
   "execution_count": 5,
   "metadata": {},
   "outputs": [
    {
     "name": "stdout",
     "output_type": "stream",
     "text": [
      "State                155\n",
      "Month                155\n",
      "Unemployment_Rate    155\n",
      "Date                 155\n",
      "dtype: int64\n"
     ]
    }
   ],
   "source": [
    "# drop any null valules - lets not drop the null values\n",
    "unemployment_data = unemployment_data.dropna(how=\"any\")\n",
    "print(unemployment_data.count())"
   ]
  },
  {
   "cell_type": "code",
   "execution_count": null,
   "metadata": {},
   "outputs": [],
   "source": []
  }
 ],
 "metadata": {
  "kernelspec": {
   "display_name": "Python [conda env:root]",
   "language": "python",
   "name": "conda-root-py"
  },
  "language_info": {
   "codemirror_mode": {
    "name": "ipython",
    "version": 3
   },
   "file_extension": ".py",
   "mimetype": "text/x-python",
   "name": "python",
   "nbconvert_exporter": "python",
   "pygments_lexer": "ipython3",
   "version": "3.8.8"
  }
 },
 "nbformat": 4,
 "nbformat_minor": 4
}
